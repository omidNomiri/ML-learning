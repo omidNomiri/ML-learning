{
 "cells": [
  {
   "cell_type": "code",
   "execution_count": 42,
   "metadata": {},
   "outputs": [],
   "source": [
    "import numpy as np\n",
    "import pandas as pd\n",
    "from LLS import LinearLeastSquare\n",
    "from train_test_split import train_test_split\n",
    "from sklearn.metrics import mean_absolute_error"
   ]
  },
  {
   "cell_type": "code",
   "execution_count": 43,
   "metadata": {},
   "outputs": [
    {
     "data": {
      "text/html": [
       "<div>\n",
       "<style scoped>\n",
       "    .dataframe tbody tr th:only-of-type {\n",
       "        vertical-align: middle;\n",
       "    }\n",
       "\n",
       "    .dataframe tbody tr th {\n",
       "        vertical-align: top;\n",
       "    }\n",
       "\n",
       "    .dataframe thead th {\n",
       "        text-align: right;\n",
       "    }\n",
       "</style>\n",
       "<table border=\"1\" class=\"dataframe\">\n",
       "  <thead>\n",
       "    <tr style=\"text-align: right;\">\n",
       "      <th></th>\n",
       "      <th>Date</th>\n",
       "      <th>Persian_Date</th>\n",
       "      <th>Open</th>\n",
       "      <th>Low</th>\n",
       "      <th>High</th>\n",
       "      <th>Close</th>\n",
       "    </tr>\n",
       "  </thead>\n",
       "  <tbody>\n",
       "    <tr>\n",
       "      <th>0</th>\n",
       "      <td>11/27/2011</td>\n",
       "      <td>1390/09/06</td>\n",
       "      <td>13,700</td>\n",
       "      <td>13,700</td>\n",
       "      <td>13,700</td>\n",
       "      <td>13,700</td>\n",
       "    </tr>\n",
       "    <tr>\n",
       "      <th>1</th>\n",
       "      <td>11/28/2011</td>\n",
       "      <td>1390/09/07</td>\n",
       "      <td>13,440</td>\n",
       "      <td>13,440</td>\n",
       "      <td>13,440</td>\n",
       "      <td>13,440</td>\n",
       "    </tr>\n",
       "    <tr>\n",
       "      <th>2</th>\n",
       "      <td>11/29/2011</td>\n",
       "      <td>1390/09/08</td>\n",
       "      <td>13,350</td>\n",
       "      <td>13,350</td>\n",
       "      <td>13,350</td>\n",
       "      <td>13,350</td>\n",
       "    </tr>\n",
       "    <tr>\n",
       "      <th>3</th>\n",
       "      <td>11/30/2011</td>\n",
       "      <td>1390/09/09</td>\n",
       "      <td>13,400</td>\n",
       "      <td>13,400</td>\n",
       "      <td>13,400</td>\n",
       "      <td>13,400</td>\n",
       "    </tr>\n",
       "    <tr>\n",
       "      <th>4</th>\n",
       "      <td>12/1/2011</td>\n",
       "      <td>1390/09/10</td>\n",
       "      <td>13,500</td>\n",
       "      <td>13,500</td>\n",
       "      <td>13,500</td>\n",
       "      <td>13,500</td>\n",
       "    </tr>\n",
       "  </tbody>\n",
       "</table>\n",
       "</div>"
      ],
      "text/plain": [
       "         Date Persian_Date    Open     Low    High   Close\n",
       "0  11/27/2011   1390/09/06  13,700  13,700  13,700  13,700\n",
       "1  11/28/2011   1390/09/07  13,440  13,440  13,440  13,440\n",
       "2  11/29/2011   1390/09/08  13,350  13,350  13,350  13,350\n",
       "3  11/30/2011   1390/09/09  13,400  13,400  13,400  13,400\n",
       "4   12/1/2011   1390/09/10  13,500  13,500  13,500  13,500"
      ]
     },
     "execution_count": 43,
     "metadata": {},
     "output_type": "execute_result"
    }
   ],
   "source": [
    "data = pd.read_csv(\"input/Dollar_Rial_Price_Dataset.csv\")\n",
    "data.head()"
   ]
  },
  {
   "cell_type": "code",
   "execution_count": 44,
   "metadata": {},
   "outputs": [
    {
     "data": {
      "text/html": [
       "<div>\n",
       "<style scoped>\n",
       "    .dataframe tbody tr th:only-of-type {\n",
       "        vertical-align: middle;\n",
       "    }\n",
       "\n",
       "    .dataframe tbody tr th {\n",
       "        vertical-align: top;\n",
       "    }\n",
       "\n",
       "    .dataframe thead th {\n",
       "        text-align: right;\n",
       "    }\n",
       "</style>\n",
       "<table border=\"1\" class=\"dataframe\">\n",
       "  <thead>\n",
       "    <tr style=\"text-align: right;\">\n",
       "      <th></th>\n",
       "      <th>Date</th>\n",
       "      <th>Open</th>\n",
       "      <th>Low</th>\n",
       "      <th>High</th>\n",
       "      <th>Close</th>\n",
       "    </tr>\n",
       "  </thead>\n",
       "  <tbody>\n",
       "    <tr>\n",
       "      <th>0</th>\n",
       "      <td>11/27/2011</td>\n",
       "      <td>13700</td>\n",
       "      <td>13700</td>\n",
       "      <td>13700</td>\n",
       "      <td>13700</td>\n",
       "    </tr>\n",
       "    <tr>\n",
       "      <th>1</th>\n",
       "      <td>11/28/2011</td>\n",
       "      <td>13440</td>\n",
       "      <td>13440</td>\n",
       "      <td>13440</td>\n",
       "      <td>13440</td>\n",
       "    </tr>\n",
       "    <tr>\n",
       "      <th>2</th>\n",
       "      <td>11/29/2011</td>\n",
       "      <td>13350</td>\n",
       "      <td>13350</td>\n",
       "      <td>13350</td>\n",
       "      <td>13350</td>\n",
       "    </tr>\n",
       "    <tr>\n",
       "      <th>3</th>\n",
       "      <td>11/30/2011</td>\n",
       "      <td>13400</td>\n",
       "      <td>13400</td>\n",
       "      <td>13400</td>\n",
       "      <td>13400</td>\n",
       "    </tr>\n",
       "    <tr>\n",
       "      <th>4</th>\n",
       "      <td>12/1/2011</td>\n",
       "      <td>13500</td>\n",
       "      <td>13500</td>\n",
       "      <td>13500</td>\n",
       "      <td>13500</td>\n",
       "    </tr>\n",
       "  </tbody>\n",
       "</table>\n",
       "</div>"
      ],
      "text/plain": [
       "         Date   Open    Low   High  Close\n",
       "0  11/27/2011  13700  13700  13700  13700\n",
       "1  11/28/2011  13440  13440  13440  13440\n",
       "2  11/29/2011  13350  13350  13350  13350\n",
       "3  11/30/2011  13400  13400  13400  13400\n",
       "4   12/1/2011  13500  13500  13500  13500"
      ]
     },
     "execution_count": 44,
     "metadata": {},
     "output_type": "execute_result"
    }
   ],
   "source": [
    "def my_func(x: str):\n",
    "    return x.replace(\",\", \"\")\n",
    "\n",
    "\n",
    "data.drop([\"Persian_Date\"], inplace=True, axis=1)\n",
    "data.drop_duplicates(inplace=True)\n",
    "data[\"High\"] = data[\"High\"].apply(my_func)\n",
    "data[\"Low\"] = data[\"Low\"].apply(my_func)\n",
    "data[\"Open\"] = data[\"Open\"].apply(my_func)\n",
    "data[\"Close\"] = data[\"Close\"].apply(my_func)\n",
    "data.head()"
   ]
  },
  {
   "cell_type": "code",
   "execution_count": 45,
   "metadata": {},
   "outputs": [],
   "source": [
    "data[\"High\"] = pd.to_numeric(data[\"High\"], errors=\"coerce\")\n",
    "data[\"Low\"] = pd.to_numeric(data[\"Low\"], errors=\"coerce\")\n",
    "data[\"Open\"] = pd.to_numeric(data[\"Open\"], errors=\"coerce\")\n",
    "data[\"Close\"] = pd.to_numeric(data[\"Close\"], errors=\"coerce\")"
   ]
  },
  {
   "cell_type": "code",
   "execution_count": 46,
   "metadata": {},
   "outputs": [
    {
     "data": {
      "text/html": [
       "<div>\n",
       "<style scoped>\n",
       "    .dataframe tbody tr th:only-of-type {\n",
       "        vertical-align: middle;\n",
       "    }\n",
       "\n",
       "    .dataframe tbody tr th {\n",
       "        vertical-align: top;\n",
       "    }\n",
       "\n",
       "    .dataframe thead th {\n",
       "        text-align: right;\n",
       "    }\n",
       "</style>\n",
       "<table border=\"1\" class=\"dataframe\">\n",
       "  <thead>\n",
       "    <tr style=\"text-align: right;\">\n",
       "      <th></th>\n",
       "      <th>index</th>\n",
       "      <th>Date</th>\n",
       "      <th>Open</th>\n",
       "      <th>Low</th>\n",
       "      <th>High</th>\n",
       "      <th>Close</th>\n",
       "    </tr>\n",
       "  </thead>\n",
       "  <tbody>\n",
       "    <tr>\n",
       "      <th>0</th>\n",
       "      <td>2857</td>\n",
       "      <td>2021-08-03</td>\n",
       "      <td>255790</td>\n",
       "      <td>255690</td>\n",
       "      <td>258140</td>\n",
       "      <td>257290</td>\n",
       "    </tr>\n",
       "    <tr>\n",
       "      <th>1</th>\n",
       "      <td>2858</td>\n",
       "      <td>2021-08-04</td>\n",
       "      <td>257250</td>\n",
       "      <td>254690</td>\n",
       "      <td>257340</td>\n",
       "      <td>256190</td>\n",
       "    </tr>\n",
       "    <tr>\n",
       "      <th>2</th>\n",
       "      <td>2859</td>\n",
       "      <td>2021-08-05</td>\n",
       "      <td>256490</td>\n",
       "      <td>255790</td>\n",
       "      <td>256740</td>\n",
       "      <td>256190</td>\n",
       "    </tr>\n",
       "    <tr>\n",
       "      <th>3</th>\n",
       "      <td>2860</td>\n",
       "      <td>2021-08-07</td>\n",
       "      <td>254190</td>\n",
       "      <td>253990</td>\n",
       "      <td>257140</td>\n",
       "      <td>256380</td>\n",
       "    </tr>\n",
       "    <tr>\n",
       "      <th>4</th>\n",
       "      <td>2861</td>\n",
       "      <td>2021-08-08</td>\n",
       "      <td>256290</td>\n",
       "      <td>252390</td>\n",
       "      <td>257440</td>\n",
       "      <td>256890</td>\n",
       "    </tr>\n",
       "  </tbody>\n",
       "</table>\n",
       "</div>"
      ],
      "text/plain": [
       "   index       Date    Open     Low    High   Close\n",
       "0   2857 2021-08-03  255790  255690  258140  257290\n",
       "1   2858 2021-08-04  257250  254690  257340  256190\n",
       "2   2859 2021-08-05  256490  255790  256740  256190\n",
       "3   2860 2021-08-07  254190  253990  257140  256380\n",
       "4   2861 2021-08-08  256290  252390  257440  256890"
      ]
     },
     "execution_count": 46,
     "metadata": {},
     "output_type": "execute_result"
    }
   ],
   "source": [
    "data[\"Date\"] = pd.to_datetime(data[\"Date\"], format=\"%m/%d/%Y\")\n",
    "ahmadinejad_presidency = data.loc[(\n",
    "    data[\"Date\"] >= \"11/27/2011\") & (data[\"Date\"] < \"08/03/2013\")].reset_index()\n",
    "rohani_presidency = data.loc[(\n",
    "    data[\"Date\"] >= \"08/03/2013\") & (data[\"Date\"] < \"08/03/2021\")].reset_index()\n",
    "raisi_presidency = data.loc[(data[\"Date\"] >= \"08/03/2021\")\n",
    "                            & (data[\"Date\"] < \"07/26/2023\")].reset_index()\n",
    "\n",
    "raisi_presidency.head()"
   ]
  },
  {
   "cell_type": "code",
   "execution_count": 47,
   "metadata": {},
   "outputs": [
    {
     "name": "stdout",
     "output_type": "stream",
     "text": [
      "highest dollar price of ahmadinejad presidency is 39700 Rial.\n",
      "\n",
      "highest dollar price of rohani presidency is 320060 Rial.\n",
      "\n",
      "highest dollar price of raisi presidency is 555600 Rial.\n"
     ]
    }
   ],
   "source": [
    "print(\n",
    "    f\"highest dollar price of ahmadinejad presidency is {ahmadinejad_presidency['High'].max()} Rial.\\n\")\n",
    "print(\n",
    "    f\"highest dollar price of rohani presidency is {rohani_presidency['High'].max()} Rial.\\n\")\n",
    "print(\n",
    "    f\"highest dollar price of raisi presidency is {raisi_presidency['High'].max()} Rial.\")"
   ]
  },
  {
   "cell_type": "code",
   "execution_count": 48,
   "metadata": {},
   "outputs": [
    {
     "name": "stdout",
     "output_type": "stream",
     "text": [
      "lowest dollar price of ahmadinejad presidency is 13350 Rial.\n",
      "\n",
      "lowest dollar price of rohani presidency is 12850 Rial.\n",
      "\n",
      "lowest dollar price of raisi presidency is 251250 Rial.\n"
     ]
    }
   ],
   "source": [
    "print(\n",
    "    f\"lowest dollar price of ahmadinejad presidency is {ahmadinejad_presidency['Low'].min()} Rial.\\n\")\n",
    "print(\n",
    "    f\"lowest dollar price of rohani presidency is {rohani_presidency['Low'].min()} Rial.\\n\")\n",
    "print(\n",
    "    f\"lowest dollar price of raisi presidency is {raisi_presidency['Low'].min()} Rial.\")"
   ]
  },
  {
   "cell_type": "code",
   "execution_count": 49,
   "metadata": {},
   "outputs": [
    {
     "name": "stdout",
     "output_type": "stream",
     "text": [
      "x_train shape is (385, 1)\n",
      "y_train shape is (385, 1)\n",
      "x_test shape is (97, 1)\n",
      "y_test shape is (97, 1)\n"
     ]
    }
   ],
   "source": [
    "x_ahmadinejad = ahmadinejad_presidency['Date'].values.astype(np.int64)\n",
    "y_ahmadinejad = ahmadinejad_presidency['High'].values\n",
    "\n",
    "ah_x_train, ah_y_train, ah_x_test, ah_y_test = train_test_split(\n",
    "    x_ahmadinejad, y_ahmadinejad)\n",
    "ah_x_train, ah_x_test, ah_y_train, ah_y_test = ah_x_train.reshape(\n",
    "    -1, 1), ah_x_test.reshape(-1, 1), ah_y_train.reshape(-1, 1), ah_y_test.reshape(-1, 1)\n",
    "\n",
    "print(f\"x_train shape is {ah_x_train.shape}\")\n",
    "print(f\"y_train shape is {ah_y_train.shape}\")\n",
    "print(f\"x_test shape is {ah_x_test.shape}\")\n",
    "print(f\"y_test shape is {ah_y_test.shape}\")"
   ]
  },
  {
   "cell_type": "code",
   "execution_count": 50,
   "metadata": {},
   "outputs": [
    {
     "name": "stdout",
     "output_type": "stream",
     "text": [
      "x_train shape is (1900, 1)\n",
      "y_train shape is (1900, 1)\n",
      "x_test shape is (475, 1)\n",
      "y_test shape is (475, 1)\n"
     ]
    }
   ],
   "source": [
    "x_rohani = rohani_presidency[\"Date\"].values.astype(np.int64)\n",
    "y_rohani = rohani_presidency[\"High\"].values\n",
    "\n",
    "rh_x_train, rh_y_train, rh_x_test, rh_y_test = train_test_split(\n",
    "    x_rohani, y_rohani)\n",
    "rh_x_train, rh_x_test, rh_y_train, rh_y_test = rh_x_train.reshape(\n",
    "    -1, 1), rh_x_test.reshape(-1, 1), rh_y_train.reshape(-1, 1), rh_y_test.reshape(-1, 1)\n",
    "\n",
    "print(f\"x_train shape is {rh_x_train.shape}\")\n",
    "print(f\"y_train shape is {rh_y_train.shape}\")\n",
    "print(f\"x_test shape is {rh_x_test.shape}\")\n",
    "print(f\"y_test shape is {rh_y_test.shape}\")"
   ]
  },
  {
   "cell_type": "code",
   "execution_count": 51,
   "metadata": {},
   "outputs": [
    {
     "name": "stdout",
     "output_type": "stream",
     "text": [
      "x_train shape is (362, 1)\n",
      "y_train shape is (362, 1)\n",
      "x_test shape is (91, 1)\n",
      "y_test shape is (91, 1)\n"
     ]
    }
   ],
   "source": [
    "x_raisi = raisi_presidency[\"Date\"].values.astype(np.int64)\n",
    "y_raisi = raisi_presidency[\"High\"].values\n",
    "\n",
    "ri_x_train, ri_y_train, ri_x_test, ri_y_test = train_test_split(\n",
    "    x_raisi, y_raisi)\n",
    "ri_x_train, ri_x_test, ri_y_train, ri_y_test = ri_x_train.reshape(\n",
    "    -1, 1), ri_x_test.reshape(-1, 1), ri_y_train.reshape(-1, 1), ri_y_test.reshape(-1, 1)\n",
    "\n",
    "print(f\"x_train shape is {ri_x_train.shape}\")\n",
    "print(f\"y_train shape is {ri_y_train.shape}\")\n",
    "print(f\"x_test shape is {ri_x_test.shape}\")\n",
    "print(f\"y_test shape is {ri_y_test.shape}\")"
   ]
  },
  {
   "cell_type": "code",
   "execution_count": 52,
   "metadata": {},
   "outputs": [],
   "source": [
    "lls_ah = LinearLeastSquare()\n",
    "lls_ah.fit(ah_x_train, ah_y_train)\n",
    "ah_y_pred = lls_ah.predict(ah_x_test)"
   ]
  },
  {
   "cell_type": "code",
   "execution_count": 53,
   "metadata": {},
   "outputs": [],
   "source": [
    "lls_rh = LinearLeastSquare()\n",
    "lls_rh.fit(rh_x_train, rh_y_train)\n",
    "rh_y_pred = lls_rh.predict(rh_x_test)"
   ]
  },
  {
   "cell_type": "code",
   "execution_count": 54,
   "metadata": {},
   "outputs": [],
   "source": [
    "lls_ri = LinearLeastSquare()\n",
    "lls_ri.fit(ri_x_train, ri_y_train)\n",
    "ri_y_pred = lls_ri.predict(ri_x_test)"
   ]
  },
  {
   "cell_type": "code",
   "execution_count": 55,
   "metadata": {},
   "outputs": [
    {
     "name": "stdout",
     "output_type": "stream",
     "text": [
      "\n",
      "MAE of ahmadinejad is 1.3483275778064891e+25.\n",
      "\n",
      "MAE of rohani is 2.9542339366376457e+26.\n",
      "\n",
      "MAE of raisi is 1.3876733699761177e+27.\n",
      "\n"
     ]
    }
   ],
   "source": [
    "print(f\"\\nMAE of ahmadinejad is {mean_absolute_error(ah_y_test, ah_y_pred)}.\\n\")\n",
    "print(f\"MAE of rohani is {mean_absolute_error(rh_y_test, rh_y_pred)}.\\n\")\n",
    "print(f\"MAE of raisi is {mean_absolute_error(ri_y_test, ri_y_pred)}.\\n\")"
   ]
  }
 ],
 "metadata": {
  "kernelspec": {
   "display_name": "Python 3",
   "language": "python",
   "name": "python3"
  },
  "language_info": {
   "codemirror_mode": {
    "name": "ipython",
    "version": 3
   },
   "file_extension": ".py",
   "mimetype": "text/x-python",
   "name": "python",
   "nbconvert_exporter": "python",
   "pygments_lexer": "ipython3",
   "version": "3.11.7"
  }
 },
 "nbformat": 4,
 "nbformat_minor": 2
}
